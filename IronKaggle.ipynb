{
 "cells": [
  {
   "cell_type": "code",
   "execution_count": 31,
   "metadata": {},
   "outputs": [],
   "source": [
    "import pandas as pd\n",
    "import numpy as np\n",
    "import matplotlib.pyplot as plt\n",
    "import warnings\n",
    "warnings.filterwarnings(\"ignore\")\n",
    "import matplotlib.pyplot as plt\n",
    "import seaborn as sns\n",
    "import plotly.express as px\n",
    "from plotly.subplots import make_subplots\n",
    "import plotly.graph_objects as go\n",
    "from sklearn import linear_model"
   ]
  },
  {
   "cell_type": "code",
   "execution_count": 2,
   "metadata": {},
   "outputs": [],
   "source": [
    "ironkaggle = pd.read_csv('sales.csv')"
   ]
  },
  {
   "cell_type": "code",
   "execution_count": 22,
   "metadata": {},
   "outputs": [
    {
     "data": {
      "text/plain": [
       "Unnamed: 0                      int64\n",
       "store_ID                        int64\n",
       "day_of_week                     int64\n",
       "date                   datetime64[ns]\n",
       "nb_customers_on_day             int64\n",
       "open                            int64\n",
       "promotion                       int64\n",
       "state_holiday                   int64\n",
       "school_holiday                  int64\n",
       "sales                           int64\n",
       "dtype: object"
      ]
     },
     "execution_count": 22,
     "metadata": {},
     "output_type": "execute_result"
    }
   ],
   "source": [
    "ironkaggle.dtypes"
   ]
  },
  {
   "cell_type": "code",
   "execution_count": 11,
   "metadata": {},
   "outputs": [],
   "source": [
    "ironkaggle.date = pd.to_datetime(ironkaggle.date)"
   ]
  },
  {
   "cell_type": "code",
   "execution_count": 15,
   "metadata": {},
   "outputs": [
    {
     "data": {
      "text/plain": [
       "array(['0', 'a', 'c', 'b'], dtype=object)"
      ]
     },
     "execution_count": 15,
     "metadata": {},
     "output_type": "execute_result"
    }
   ],
   "source": [
    "ironkaggle.state_holiday.unique()"
   ]
  },
  {
   "cell_type": "code",
   "execution_count": 18,
   "metadata": {},
   "outputs": [
    {
     "data": {
      "text/html": [
       "<div>\n",
       "<style scoped>\n",
       "    .dataframe tbody tr th:only-of-type {\n",
       "        vertical-align: middle;\n",
       "    }\n",
       "\n",
       "    .dataframe tbody tr th {\n",
       "        vertical-align: top;\n",
       "    }\n",
       "\n",
       "    .dataframe thead th {\n",
       "        text-align: right;\n",
       "    }\n",
       "</style>\n",
       "<table border=\"1\" class=\"dataframe\">\n",
       "  <thead>\n",
       "    <tr style=\"text-align: right;\">\n",
       "      <th></th>\n",
       "      <th>Unnamed: 0</th>\n",
       "      <th>store_ID</th>\n",
       "      <th>day_of_week</th>\n",
       "      <th>date</th>\n",
       "      <th>nb_customers_on_day</th>\n",
       "      <th>open</th>\n",
       "      <th>promotion</th>\n",
       "      <th>state_holiday</th>\n",
       "      <th>school_holiday</th>\n",
       "      <th>sales</th>\n",
       "    </tr>\n",
       "  </thead>\n",
       "  <tbody>\n",
       "    <tr>\n",
       "      <th>837</th>\n",
       "      <td>687618</td>\n",
       "      <td>12</td>\n",
       "      <td>3</td>\n",
       "      <td>2013-01-02</td>\n",
       "      <td>786</td>\n",
       "      <td>1</td>\n",
       "      <td>0</td>\n",
       "      <td>0</td>\n",
       "      <td>1</td>\n",
       "      <td>5029</td>\n",
       "    </tr>\n",
       "    <tr>\n",
       "      <th>939</th>\n",
       "      <td>604171</td>\n",
       "      <td>950</td>\n",
       "      <td>3</td>\n",
       "      <td>2013-01-02</td>\n",
       "      <td>569</td>\n",
       "      <td>1</td>\n",
       "      <td>0</td>\n",
       "      <td>0</td>\n",
       "      <td>1</td>\n",
       "      <td>5268</td>\n",
       "    </tr>\n",
       "    <tr>\n",
       "      <th>1109</th>\n",
       "      <td>259453</td>\n",
       "      <td>706</td>\n",
       "      <td>3</td>\n",
       "      <td>2013-01-02</td>\n",
       "      <td>499</td>\n",
       "      <td>1</td>\n",
       "      <td>0</td>\n",
       "      <td>0</td>\n",
       "      <td>1</td>\n",
       "      <td>5072</td>\n",
       "    </tr>\n",
       "    <tr>\n",
       "      <th>1325</th>\n",
       "      <td>424298</td>\n",
       "      <td>693</td>\n",
       "      <td>3</td>\n",
       "      <td>2013-01-02</td>\n",
       "      <td>382</td>\n",
       "      <td>1</td>\n",
       "      <td>0</td>\n",
       "      <td>0</td>\n",
       "      <td>1</td>\n",
       "      <td>4945</td>\n",
       "    </tr>\n",
       "    <tr>\n",
       "      <th>2263</th>\n",
       "      <td>338396</td>\n",
       "      <td>811</td>\n",
       "      <td>3</td>\n",
       "      <td>2013-01-02</td>\n",
       "      <td>786</td>\n",
       "      <td>1</td>\n",
       "      <td>0</td>\n",
       "      <td>0</td>\n",
       "      <td>1</td>\n",
       "      <td>4607</td>\n",
       "    </tr>\n",
       "    <tr>\n",
       "      <th>...</th>\n",
       "      <td>...</td>\n",
       "      <td>...</td>\n",
       "      <td>...</td>\n",
       "      <td>...</td>\n",
       "      <td>...</td>\n",
       "      <td>...</td>\n",
       "      <td>...</td>\n",
       "      <td>...</td>\n",
       "      <td>...</td>\n",
       "      <td>...</td>\n",
       "    </tr>\n",
       "    <tr>\n",
       "      <th>633979</th>\n",
       "      <td>315567</td>\n",
       "      <td>343</td>\n",
       "      <td>5</td>\n",
       "      <td>2014-12-26</td>\n",
       "      <td>0</td>\n",
       "      <td>0</td>\n",
       "      <td>0</td>\n",
       "      <td>c</td>\n",
       "      <td>1</td>\n",
       "      <td>0</td>\n",
       "    </tr>\n",
       "    <tr>\n",
       "      <th>636046</th>\n",
       "      <td>131416</td>\n",
       "      <td>253</td>\n",
       "      <td>5</td>\n",
       "      <td>2014-12-26</td>\n",
       "      <td>0</td>\n",
       "      <td>0</td>\n",
       "      <td>0</td>\n",
       "      <td>c</td>\n",
       "      <td>1</td>\n",
       "      <td>0</td>\n",
       "    </tr>\n",
       "    <tr>\n",
       "      <th>636765</th>\n",
       "      <td>128810</td>\n",
       "      <td>176</td>\n",
       "      <td>5</td>\n",
       "      <td>2014-12-26</td>\n",
       "      <td>0</td>\n",
       "      <td>0</td>\n",
       "      <td>0</td>\n",
       "      <td>c</td>\n",
       "      <td>1</td>\n",
       "      <td>0</td>\n",
       "    </tr>\n",
       "    <tr>\n",
       "      <th>636870</th>\n",
       "      <td>434580</td>\n",
       "      <td>401</td>\n",
       "      <td>5</td>\n",
       "      <td>2014-12-26</td>\n",
       "      <td>0</td>\n",
       "      <td>0</td>\n",
       "      <td>0</td>\n",
       "      <td>c</td>\n",
       "      <td>1</td>\n",
       "      <td>0</td>\n",
       "    </tr>\n",
       "    <tr>\n",
       "      <th>640454</th>\n",
       "      <td>26981</td>\n",
       "      <td>615</td>\n",
       "      <td>5</td>\n",
       "      <td>2014-12-26</td>\n",
       "      <td>0</td>\n",
       "      <td>0</td>\n",
       "      <td>0</td>\n",
       "      <td>c</td>\n",
       "      <td>1</td>\n",
       "      <td>0</td>\n",
       "    </tr>\n",
       "  </tbody>\n",
       "</table>\n",
       "<p>640840 rows × 10 columns</p>\n",
       "</div>"
      ],
      "text/plain": [
       "        Unnamed: 0  store_ID  day_of_week       date  nb_customers_on_day  \\\n",
       "837         687618        12            3 2013-01-02                  786   \n",
       "939         604171       950            3 2013-01-02                  569   \n",
       "1109        259453       706            3 2013-01-02                  499   \n",
       "1325        424298       693            3 2013-01-02                  382   \n",
       "2263        338396       811            3 2013-01-02                  786   \n",
       "...            ...       ...          ...        ...                  ...   \n",
       "633979      315567       343            5 2014-12-26                    0   \n",
       "636046      131416       253            5 2014-12-26                    0   \n",
       "636765      128810       176            5 2014-12-26                    0   \n",
       "636870      434580       401            5 2014-12-26                    0   \n",
       "640454       26981       615            5 2014-12-26                    0   \n",
       "\n",
       "        open  promotion state_holiday  school_holiday  sales  \n",
       "837        1          0             0               1   5029  \n",
       "939        1          0             0               1   5268  \n",
       "1109       1          0             0               1   5072  \n",
       "1325       1          0             0               1   4945  \n",
       "2263       1          0             0               1   4607  \n",
       "...      ...        ...           ...             ...    ...  \n",
       "633979     0          0             c               1      0  \n",
       "636046     0          0             c               1      0  \n",
       "636765     0          0             c               1      0  \n",
       "636870     0          0             c               1      0  \n",
       "640454     0          0             c               1      0  \n",
       "\n",
       "[640840 rows x 10 columns]"
      ]
     },
     "execution_count": 18,
     "metadata": {},
     "output_type": "execute_result"
    }
   ],
   "source": [
    "ironkaggle.sort_values(by=['state_holiday', 'date'])"
   ]
  },
  {
   "cell_type": "code",
   "execution_count": 19,
   "metadata": {},
   "outputs": [],
   "source": [
    "ironkaggle['state_holiday'] = ironkaggle['state_holiday'].map({'0': 0, 'a': 1, 'b': 2, 'c': 3})"
   ]
  },
  {
   "cell_type": "code",
   "execution_count": 23,
   "metadata": {},
   "outputs": [],
   "source": [
    "ironkaggle = ironkaggle.rename(columns={'Unnamed: 0': 'index'})"
   ]
  },
  {
   "cell_type": "code",
   "execution_count": 73,
   "metadata": {},
   "outputs": [],
   "source": [
    "ironkaggle['year'] = ironkaggle['date'].dt.year\n",
    "ironkaggle['month'] = ironkaggle['date'].dt.month\n",
    "ironkaggle['day'] = ironkaggle['date'].dt.day"
   ]
  },
  {
   "cell_type": "code",
   "execution_count": 170,
   "metadata": {},
   "outputs": [],
   "source": [
    "features = ironkaggle.drop(['sales', 'date', 'index'], axis=1)\n",
    "labels = ironkaggle['sales']"
   ]
  },
  {
   "cell_type": "code",
   "execution_count": 171,
   "metadata": {},
   "outputs": [
    {
     "data": {
      "text/html": [
       "<div>\n",
       "<style scoped>\n",
       "    .dataframe tbody tr th:only-of-type {\n",
       "        vertical-align: middle;\n",
       "    }\n",
       "\n",
       "    .dataframe tbody tr th {\n",
       "        vertical-align: top;\n",
       "    }\n",
       "\n",
       "    .dataframe thead th {\n",
       "        text-align: right;\n",
       "    }\n",
       "</style>\n",
       "<table border=\"1\" class=\"dataframe\">\n",
       "  <thead>\n",
       "    <tr style=\"text-align: right;\">\n",
       "      <th></th>\n",
       "      <th>store_ID</th>\n",
       "      <th>day_of_week</th>\n",
       "      <th>nb_customers_on_day</th>\n",
       "      <th>open</th>\n",
       "      <th>promotion</th>\n",
       "      <th>state_holiday</th>\n",
       "      <th>school_holiday</th>\n",
       "      <th>year</th>\n",
       "      <th>month</th>\n",
       "      <th>day</th>\n",
       "    </tr>\n",
       "  </thead>\n",
       "  <tbody>\n",
       "    <tr>\n",
       "      <th>0</th>\n",
       "      <td>366</td>\n",
       "      <td>4</td>\n",
       "      <td>517</td>\n",
       "      <td>1</td>\n",
       "      <td>0</td>\n",
       "      <td>0</td>\n",
       "      <td>0</td>\n",
       "      <td>2013</td>\n",
       "      <td>4</td>\n",
       "      <td>18</td>\n",
       "    </tr>\n",
       "    <tr>\n",
       "      <th>1</th>\n",
       "      <td>394</td>\n",
       "      <td>6</td>\n",
       "      <td>694</td>\n",
       "      <td>1</td>\n",
       "      <td>0</td>\n",
       "      <td>0</td>\n",
       "      <td>0</td>\n",
       "      <td>2015</td>\n",
       "      <td>4</td>\n",
       "      <td>11</td>\n",
       "    </tr>\n",
       "    <tr>\n",
       "      <th>2</th>\n",
       "      <td>807</td>\n",
       "      <td>4</td>\n",
       "      <td>970</td>\n",
       "      <td>1</td>\n",
       "      <td>1</td>\n",
       "      <td>0</td>\n",
       "      <td>0</td>\n",
       "      <td>2013</td>\n",
       "      <td>8</td>\n",
       "      <td>29</td>\n",
       "    </tr>\n",
       "    <tr>\n",
       "      <th>3</th>\n",
       "      <td>802</td>\n",
       "      <td>2</td>\n",
       "      <td>473</td>\n",
       "      <td>1</td>\n",
       "      <td>1</td>\n",
       "      <td>0</td>\n",
       "      <td>0</td>\n",
       "      <td>2013</td>\n",
       "      <td>5</td>\n",
       "      <td>28</td>\n",
       "    </tr>\n",
       "    <tr>\n",
       "      <th>4</th>\n",
       "      <td>726</td>\n",
       "      <td>4</td>\n",
       "      <td>1068</td>\n",
       "      <td>1</td>\n",
       "      <td>1</td>\n",
       "      <td>0</td>\n",
       "      <td>0</td>\n",
       "      <td>2013</td>\n",
       "      <td>10</td>\n",
       "      <td>10</td>\n",
       "    </tr>\n",
       "    <tr>\n",
       "      <th>...</th>\n",
       "      <td>...</td>\n",
       "      <td>...</td>\n",
       "      <td>...</td>\n",
       "      <td>...</td>\n",
       "      <td>...</td>\n",
       "      <td>...</td>\n",
       "      <td>...</td>\n",
       "      <td>...</td>\n",
       "      <td>...</td>\n",
       "      <td>...</td>\n",
       "    </tr>\n",
       "    <tr>\n",
       "      <th>640835</th>\n",
       "      <td>409</td>\n",
       "      <td>6</td>\n",
       "      <td>483</td>\n",
       "      <td>1</td>\n",
       "      <td>0</td>\n",
       "      <td>0</td>\n",
       "      <td>0</td>\n",
       "      <td>2013</td>\n",
       "      <td>10</td>\n",
       "      <td>26</td>\n",
       "    </tr>\n",
       "    <tr>\n",
       "      <th>640836</th>\n",
       "      <td>97</td>\n",
       "      <td>1</td>\n",
       "      <td>987</td>\n",
       "      <td>1</td>\n",
       "      <td>1</td>\n",
       "      <td>0</td>\n",
       "      <td>0</td>\n",
       "      <td>2014</td>\n",
       "      <td>4</td>\n",
       "      <td>14</td>\n",
       "    </tr>\n",
       "    <tr>\n",
       "      <th>640837</th>\n",
       "      <td>987</td>\n",
       "      <td>1</td>\n",
       "      <td>925</td>\n",
       "      <td>1</td>\n",
       "      <td>0</td>\n",
       "      <td>0</td>\n",
       "      <td>0</td>\n",
       "      <td>2014</td>\n",
       "      <td>7</td>\n",
       "      <td>7</td>\n",
       "    </tr>\n",
       "    <tr>\n",
       "      <th>640838</th>\n",
       "      <td>1084</td>\n",
       "      <td>4</td>\n",
       "      <td>725</td>\n",
       "      <td>1</td>\n",
       "      <td>0</td>\n",
       "      <td>0</td>\n",
       "      <td>0</td>\n",
       "      <td>2014</td>\n",
       "      <td>6</td>\n",
       "      <td>12</td>\n",
       "    </tr>\n",
       "    <tr>\n",
       "      <th>640839</th>\n",
       "      <td>695</td>\n",
       "      <td>7</td>\n",
       "      <td>0</td>\n",
       "      <td>0</td>\n",
       "      <td>0</td>\n",
       "      <td>0</td>\n",
       "      <td>0</td>\n",
       "      <td>2015</td>\n",
       "      <td>5</td>\n",
       "      <td>3</td>\n",
       "    </tr>\n",
       "  </tbody>\n",
       "</table>\n",
       "<p>640840 rows × 10 columns</p>\n",
       "</div>"
      ],
      "text/plain": [
       "        store_ID  day_of_week  nb_customers_on_day  open  promotion  \\\n",
       "0            366            4                  517     1          0   \n",
       "1            394            6                  694     1          0   \n",
       "2            807            4                  970     1          1   \n",
       "3            802            2                  473     1          1   \n",
       "4            726            4                 1068     1          1   \n",
       "...          ...          ...                  ...   ...        ...   \n",
       "640835       409            6                  483     1          0   \n",
       "640836        97            1                  987     1          1   \n",
       "640837       987            1                  925     1          0   \n",
       "640838      1084            4                  725     1          0   \n",
       "640839       695            7                    0     0          0   \n",
       "\n",
       "        state_holiday  school_holiday  year  month  day  \n",
       "0                   0               0  2013      4   18  \n",
       "1                   0               0  2015      4   11  \n",
       "2                   0               0  2013      8   29  \n",
       "3                   0               0  2013      5   28  \n",
       "4                   0               0  2013     10   10  \n",
       "...               ...             ...   ...    ...  ...  \n",
       "640835              0               0  2013     10   26  \n",
       "640836              0               0  2014      4   14  \n",
       "640837              0               0  2014      7    7  \n",
       "640838              0               0  2014      6   12  \n",
       "640839              0               0  2015      5    3  \n",
       "\n",
       "[640840 rows x 10 columns]"
      ]
     },
     "metadata": {},
     "output_type": "display_data"
    },
    {
     "data": {
      "text/plain": [
       "0          4422\n",
       "1          8297\n",
       "2          9729\n",
       "3          6513\n",
       "4         10882\n",
       "          ...  \n",
       "640835     4553\n",
       "640836    12307\n",
       "640837     6800\n",
       "640838     5344\n",
       "640839        0\n",
       "Name: sales, Length: 640840, dtype: int64"
      ]
     },
     "metadata": {},
     "output_type": "display_data"
    }
   ],
   "source": [
    "display(features)\n",
    "display(labels)"
   ]
  },
  {
   "cell_type": "code",
   "execution_count": 172,
   "metadata": {},
   "outputs": [],
   "source": [
    "from sklearn.model_selection import train_test_split\n",
    "\n",
    "X_train, X_test, y_train, y_test = train_test_split(features, labels, random_state=0)"
   ]
  },
  {
   "cell_type": "code",
   "execution_count": 173,
   "metadata": {},
   "outputs": [],
   "source": [
    "model = linear_model.LinearRegression()\n",
    "result = model.fit(X_train, y_train)"
   ]
  },
  {
   "cell_type": "code",
   "execution_count": 174,
   "metadata": {},
   "outputs": [],
   "source": [
    "y_pred = model.predict(X_test)"
   ]
  },
  {
   "cell_type": "code",
   "execution_count": 175,
   "metadata": {},
   "outputs": [],
   "source": [
    "from sklearn.metrics import mean_squared_error, r2_score\n",
    "mse = mean_squared_error(y_test, y_pred)\n",
    "r2 = r2_score(y_test, y_pred)"
   ]
  },
  {
   "cell_type": "code",
   "execution_count": 135,
   "metadata": {},
   "outputs": [
    {
     "name": "stdout",
     "output_type": "stream",
     "text": [
      "2559076.463683519\n",
      "0.7322364003468891\n"
     ]
    }
   ],
   "source": [
    "print(mse)\n",
    "print(r2)"
   ]
  },
  {
   "cell_type": "code",
   "execution_count": 176,
   "metadata": {},
   "outputs": [],
   "source": [
    "from sklearn.neighbors import KNeighborsClassifier\n",
    "from sklearn.neighbors import KNeighborsRegressor"
   ]
  },
  {
   "cell_type": "code",
   "execution_count": 177,
   "metadata": {},
   "outputs": [],
   "source": [
    "knn_model = KNeighborsRegressor(n_neighbors=9)"
   ]
  },
  {
   "cell_type": "code",
   "execution_count": 178,
   "metadata": {},
   "outputs": [
    {
     "data": {
      "text/html": [
       "<style>#sk-container-id-8 {color: black;}#sk-container-id-8 pre{padding: 0;}#sk-container-id-8 div.sk-toggleable {background-color: white;}#sk-container-id-8 label.sk-toggleable__label {cursor: pointer;display: block;width: 100%;margin-bottom: 0;padding: 0.3em;box-sizing: border-box;text-align: center;}#sk-container-id-8 label.sk-toggleable__label-arrow:before {content: \"▸\";float: left;margin-right: 0.25em;color: #696969;}#sk-container-id-8 label.sk-toggleable__label-arrow:hover:before {color: black;}#sk-container-id-8 div.sk-estimator:hover label.sk-toggleable__label-arrow:before {color: black;}#sk-container-id-8 div.sk-toggleable__content {max-height: 0;max-width: 0;overflow: hidden;text-align: left;background-color: #f0f8ff;}#sk-container-id-8 div.sk-toggleable__content pre {margin: 0.2em;color: black;border-radius: 0.25em;background-color: #f0f8ff;}#sk-container-id-8 input.sk-toggleable__control:checked~div.sk-toggleable__content {max-height: 200px;max-width: 100%;overflow: auto;}#sk-container-id-8 input.sk-toggleable__control:checked~label.sk-toggleable__label-arrow:before {content: \"▾\";}#sk-container-id-8 div.sk-estimator input.sk-toggleable__control:checked~label.sk-toggleable__label {background-color: #d4ebff;}#sk-container-id-8 div.sk-label input.sk-toggleable__control:checked~label.sk-toggleable__label {background-color: #d4ebff;}#sk-container-id-8 input.sk-hidden--visually {border: 0;clip: rect(1px 1px 1px 1px);clip: rect(1px, 1px, 1px, 1px);height: 1px;margin: -1px;overflow: hidden;padding: 0;position: absolute;width: 1px;}#sk-container-id-8 div.sk-estimator {font-family: monospace;background-color: #f0f8ff;border: 1px dotted black;border-radius: 0.25em;box-sizing: border-box;margin-bottom: 0.5em;}#sk-container-id-8 div.sk-estimator:hover {background-color: #d4ebff;}#sk-container-id-8 div.sk-parallel-item::after {content: \"\";width: 100%;border-bottom: 1px solid gray;flex-grow: 1;}#sk-container-id-8 div.sk-label:hover label.sk-toggleable__label {background-color: #d4ebff;}#sk-container-id-8 div.sk-serial::before {content: \"\";position: absolute;border-left: 1px solid gray;box-sizing: border-box;top: 0;bottom: 0;left: 50%;z-index: 0;}#sk-container-id-8 div.sk-serial {display: flex;flex-direction: column;align-items: center;background-color: white;padding-right: 0.2em;padding-left: 0.2em;position: relative;}#sk-container-id-8 div.sk-item {position: relative;z-index: 1;}#sk-container-id-8 div.sk-parallel {display: flex;align-items: stretch;justify-content: center;background-color: white;position: relative;}#sk-container-id-8 div.sk-item::before, #sk-container-id-8 div.sk-parallel-item::before {content: \"\";position: absolute;border-left: 1px solid gray;box-sizing: border-box;top: 0;bottom: 0;left: 50%;z-index: -1;}#sk-container-id-8 div.sk-parallel-item {display: flex;flex-direction: column;z-index: 1;position: relative;background-color: white;}#sk-container-id-8 div.sk-parallel-item:first-child::after {align-self: flex-end;width: 50%;}#sk-container-id-8 div.sk-parallel-item:last-child::after {align-self: flex-start;width: 50%;}#sk-container-id-8 div.sk-parallel-item:only-child::after {width: 0;}#sk-container-id-8 div.sk-dashed-wrapped {border: 1px dashed gray;margin: 0 0.4em 0.5em 0.4em;box-sizing: border-box;padding-bottom: 0.4em;background-color: white;}#sk-container-id-8 div.sk-label label {font-family: monospace;font-weight: bold;display: inline-block;line-height: 1.2em;}#sk-container-id-8 div.sk-label-container {text-align: center;}#sk-container-id-8 div.sk-container {/* jupyter's `normalize.less` sets `[hidden] { display: none; }` but bootstrap.min.css set `[hidden] { display: none !important; }` so we also need the `!important` here to be able to override the default hidden behavior on the sphinx rendered scikit-learn.org. See: https://github.com/scikit-learn/scikit-learn/issues/21755 */display: inline-block !important;position: relative;}#sk-container-id-8 div.sk-text-repr-fallback {display: none;}</style><div id=\"sk-container-id-8\" class=\"sk-top-container\"><div class=\"sk-text-repr-fallback\"><pre>KNeighborsRegressor(n_neighbors=9)</pre><b>In a Jupyter environment, please rerun this cell to show the HTML representation or trust the notebook. <br />On GitHub, the HTML representation is unable to render, please try loading this page with nbviewer.org.</b></div><div class=\"sk-container\" hidden><div class=\"sk-item\"><div class=\"sk-estimator sk-toggleable\"><input class=\"sk-toggleable__control sk-hidden--visually\" id=\"sk-estimator-id-8\" type=\"checkbox\" checked><label for=\"sk-estimator-id-8\" class=\"sk-toggleable__label sk-toggleable__label-arrow\">KNeighborsRegressor</label><div class=\"sk-toggleable__content\"><pre>KNeighborsRegressor(n_neighbors=9)</pre></div></div></div></div></div>"
      ],
      "text/plain": [
       "KNeighborsRegressor(n_neighbors=9)"
      ]
     },
     "execution_count": 178,
     "metadata": {},
     "output_type": "execute_result"
    }
   ],
   "source": [
    "knn_model.fit(X_train, y_train)"
   ]
  },
  {
   "cell_type": "code",
   "execution_count": 179,
   "metadata": {},
   "outputs": [
    {
     "data": {
      "text/plain": [
       "array([3834.55555556, 5177.88888889, 6879.33333333, ..., 2745.77777778,\n",
       "       4614.33333333, 8447.44444444])"
      ]
     },
     "execution_count": 179,
     "metadata": {},
     "output_type": "execute_result"
    }
   ],
   "source": [
    "y_pred = knn_model.predict(X_test)\n",
    "y_pred"
   ]
  },
  {
   "cell_type": "code",
   "execution_count": 180,
   "metadata": {},
   "outputs": [
    {
     "data": {
      "text/plain": [
       "array([4025, 5538, 5579, ..., 2680, 5889, 8864], dtype=int64)"
      ]
     },
     "execution_count": 180,
     "metadata": {},
     "output_type": "execute_result"
    }
   ],
   "source": [
    "np.array(y_test)"
   ]
  },
  {
   "cell_type": "code",
   "execution_count": 181,
   "metadata": {},
   "outputs": [
    {
     "name": "stdout",
     "output_type": "stream",
     "text": [
      "Mean Squared Error: 1729514.2860380008\n",
      "R2 Score: 0.6692131783586244\n"
     ]
    }
   ],
   "source": [
    "mse = mean_squared_error(y_test, y_pred)\n",
    "\n",
    "print(f'Mean Squared Error: {mse}')\n",
    "\n",
    "r2 = r2_score(y_val, y_pred_val)\n",
    "\n",
    "print(f'R2 Score: {r2}')"
   ]
  },
  {
   "cell_type": "code",
   "execution_count": 183,
   "metadata": {},
   "outputs": [],
   "source": [
    "X_train, X_test, y_train, y_test = train_test_split(features, labels, random_state=42, test_size=0.2)\n",
    "X_train_2, X_val, y_train_2, y_val = train_test_split(X_train, y_train, random_state=42, test_size=0.25)"
   ]
  },
  {
   "cell_type": "code",
   "execution_count": 184,
   "metadata": {},
   "outputs": [
    {
     "name": "stdout",
     "output_type": "stream",
     "text": [
      "Train set % 60.0\n",
      "Validation set % 20.0\n",
      "Test set % 20.0\n"
     ]
    }
   ],
   "source": [
    "print('Train set %', len(X_train_2) * 100 / len(features))\n",
    "print('Validation set %', len(X_val) * 100 / len(features))\n",
    "print('Test set %', len(X_test) * 100 / len(features))"
   ]
  },
  {
   "cell_type": "code",
   "execution_count": 185,
   "metadata": {},
   "outputs": [],
   "source": [
    "knn_model = KNeighborsRegressor(n_neighbors=2)\n",
    "knn_model.fit(X_train_2, y_train_2)\n",
    "y_pred_val = knn_model.predict(X_val)\n",
    "y_pred_train = knn_model.predict(X_train_2)"
   ]
  },
  {
   "cell_type": "code",
   "execution_count": 162,
   "metadata": {},
   "outputs": [],
   "source": [
    "from sklearn.ensemble import BaggingRegressor\n",
    "from sklearn.tree import DecisionTreeRegressor"
   ]
  },
  {
   "cell_type": "code",
   "execution_count": 187,
   "metadata": {},
   "outputs": [
    {
     "name": "stdout",
     "output_type": "stream",
     "text": [
      "Train score: 0.836092947981105\n",
      "Test score: 0.8355149798386883\n"
     ]
    }
   ],
   "source": [
    "# Bagging w/ pasting\n",
    "bagging_reg = BaggingRegressor(\n",
    "    DecisionTreeRegressor(max_depth=3), # depth 3 to force tree to be \"weak\"\n",
    "    n_estimators=10, # 10 trees\n",
    "    max_samples=100, # we limit each weaker tree to 100 datapoints\n",
    "    bootstrap=False, # by default, the bagging regressor does bootstrapping\n",
    "    random_state=1) # fixing random state because I want my examples to work and to look smart\n",
    "\n",
    "bagging_reg.fit(X_train, y_train)\n",
    "print('Train score:', bagging_reg.score(X_train, y_train))\n",
    "print('Test score:', bagging_reg.score(X_test, y_test))"
   ]
  },
  {
   "cell_type": "code",
   "execution_count": 188,
   "metadata": {},
   "outputs": [
    {
     "name": "stdout",
     "output_type": "stream",
     "text": [
      "Train score: 0.836092947981105\n",
      "Test score: 0.8355149798386883\n"
     ]
    }
   ],
   "source": [
    "# Bagging w/ bootstrapping\n",
    "bagging_reg = BaggingRegressor(\n",
    "    DecisionTreeRegressor(max_depth=3), # depth 3 to force tree to be \"weak\"\n",
    "    n_estimators=10, # 10 trees\n",
    "    max_samples=100, # we limit each weaker tree to 100 datapoints\n",
    "    bootstrap=True,  # by default, the bagging regressor does bootstrapping\n",
    "    random_state=1) # fixing random state because I want my examples to work and to look smart\n",
    "\n",
    "bagging_reg.fit(X_train, y_train)\n",
    "print('Train score:', bagging_reg.score(X_train, y_train))\n",
    "print('Test score:', bagging_reg.score(X_test, y_test))"
   ]
  },
  {
   "cell_type": "code",
   "execution_count": 189,
   "metadata": {},
   "outputs": [
    {
     "name": "stdout",
     "output_type": "stream",
     "text": [
      "Train score: 0.8171083649864864\n",
      "Test score: 0.8175704334763318\n"
     ]
    }
   ],
   "source": [
    "from sklearn.ensemble import RandomForestRegressor\n",
    "\n",
    "forest = RandomForestRegressor(n_estimators=10, # same 10 trees\n",
    "                               #max_samples=100,\n",
    "                               #max_features=0.6,\n",
    "                               max_depth=3, # depth 3 to force tree to be \"weak\"\n",
    "                               random_state=1) # fixing rand because I'm insecure and afraid you will judge me if I get a bad random selection that does not prove my point\n",
    "forest.fit(X_train, y_train)\n",
    "print('Train score:', forest.score(X_train, y_train))\n",
    "print('Test score:', forest.score(X_test, y_test))"
   ]
  },
  {
   "cell_type": "code",
   "execution_count": 190,
   "metadata": {},
   "outputs": [
    {
     "name": "stdout",
     "output_type": "stream",
     "text": [
      "Train score: 0.8643912424599511\n",
      "Test score: 0.8625634169346146\n"
     ]
    }
   ],
   "source": [
    "from sklearn.ensemble import AdaBoostRegressor\n",
    "\n",
    "ada_reg = AdaBoostRegressor(DecisionTreeRegressor(max_depth=5), # you can overfit a bit because you compensate afterwards\n",
    "                            n_estimators=10, # same 10 trees. You usually use faaaar more estimators\n",
    "                            random_state=1 # once a coward, always a coward\n",
    "                            )\n",
    "ada_reg.fit(X_train, y_train)\n",
    "print('Train score:', ada_reg.score(X_train, y_train))\n",
    "print('Test score:', ada_reg.score(X_test, y_test))"
   ]
  },
  {
   "cell_type": "code",
   "execution_count": 191,
   "metadata": {},
   "outputs": [
    {
     "name": "stdout",
     "output_type": "stream",
     "text": [
      "Train score: 0.8046057181295626\n",
      "Test score: 0.802540129608925\n"
     ]
    }
   ],
   "source": [
    "ada_reg = AdaBoostRegressor(DecisionTreeRegressor(max_depth=5),\n",
    "                            n_estimators=50, # that's more like it\n",
    "                            random_state=1 # once a coward, always a coward\n",
    "                            )\n",
    "ada_reg.fit(X_train, y_train)\n",
    "print('Train score:', ada_reg.score(X_train, y_train))\n",
    "print('Test score:', ada_reg.score(X_test, y_test))"
   ]
  },
  {
   "cell_type": "code",
   "execution_count": 192,
   "metadata": {},
   "outputs": [
    {
     "data": {
      "text/plain": [
       "0.8936074668593242"
      ]
     },
     "execution_count": 192,
     "metadata": {},
     "output_type": "execute_result"
    }
   ],
   "source": [
    "from sklearn.ensemble import GradientBoostingRegressor\n",
    "\n",
    "gb_reg = GradientBoostingRegressor(max_depth=5, #gradient boosting always works with trees, no need to call the tree regressor\n",
    "                                   n_estimators=50,\n",
    "                                   random_state=1 # tastes like chicken\n",
    "                                   )\n",
    "gb_reg.fit(X_train, y_train)\n",
    "gb_reg.score(X_test,y_test)"
   ]
  },
  {
   "cell_type": "code",
   "execution_count": 194,
   "metadata": {},
   "outputs": [
    {
     "name": "stdout",
     "output_type": "stream",
     "text": [
      "Collecting xgboost\n",
      "  Downloading xgboost-2.0.2-py3-none-win_amd64.whl.metadata (2.0 kB)\n",
      "Requirement already satisfied: numpy in c:\\users\\chris\\appdata\\local\\packages\\pythonsoftwarefoundation.python.3.11_qbz5n2kfra8p0\\localcache\\local-packages\\python311\\site-packages (from xgboost) (1.25.2)\n",
      "Requirement already satisfied: scipy in c:\\users\\chris\\appdata\\local\\packages\\pythonsoftwarefoundation.python.3.11_qbz5n2kfra8p0\\localcache\\local-packages\\python311\\site-packages (from xgboost) (1.11.2)\n",
      "Downloading xgboost-2.0.2-py3-none-win_amd64.whl (99.8 MB)\n",
      "   ---------------------------------------- 0.0/99.8 MB ? eta -:--:--\n",
      "   ---------------------------------------- 0.0/99.8 MB ? eta -:--:--\n",
      "   ---------------------------------------- 0.0/99.8 MB ? eta -:--:--\n",
      "   ---------------------------------------- 0.1/99.8 MB 656.4 kB/s eta 0:02:32\n",
      "   ---------------------------------------- 0.2/99.8 MB 1.5 MB/s eta 0:01:09\n",
      "   ---------------------------------------- 0.5/99.8 MB 2.5 MB/s eta 0:00:40\n",
      "   ---------------------------------------- 0.7/99.8 MB 3.1 MB/s eta 0:00:33\n",
      "   ---------------------------------------- 1.0/99.8 MB 3.4 MB/s eta 0:00:29\n",
      "    --------------------------------------- 1.3/99.8 MB 3.9 MB/s eta 0:00:26\n",
      "    --------------------------------------- 1.5/99.8 MB 3.9 MB/s eta 0:00:25\n",
      "    --------------------------------------- 1.7/99.8 MB 4.1 MB/s eta 0:00:24\n",
      "    --------------------------------------- 2.0/99.8 MB 4.4 MB/s eta 0:00:23\n",
      "    --------------------------------------- 2.1/99.8 MB 4.3 MB/s eta 0:00:23\n",
      "    --------------------------------------- 2.3/99.8 MB 4.2 MB/s eta 0:00:24\n",
      "   - -------------------------------------- 2.6/99.8 MB 4.3 MB/s eta 0:00:23\n",
      "   - -------------------------------------- 2.9/99.8 MB 4.4 MB/s eta 0:00:23\n",
      "   - -------------------------------------- 3.1/99.8 MB 4.6 MB/s eta 0:00:22\n",
      "   - -------------------------------------- 3.4/99.8 MB 4.5 MB/s eta 0:00:22\n",
      "   - -------------------------------------- 3.6/99.8 MB 4.6 MB/s eta 0:00:22\n",
      "   - -------------------------------------- 3.7/99.8 MB 4.5 MB/s eta 0:00:22\n",
      "   - -------------------------------------- 4.0/99.8 MB 4.5 MB/s eta 0:00:22\n",
      "   - -------------------------------------- 4.3/99.8 MB 4.6 MB/s eta 0:00:21\n",
      "   - -------------------------------------- 4.5/99.8 MB 4.6 MB/s eta 0:00:21\n",
      "   - -------------------------------------- 4.7/99.8 MB 4.6 MB/s eta 0:00:21\n",
      "   - -------------------------------------- 5.0/99.8 MB 4.7 MB/s eta 0:00:21\n",
      "   -- ------------------------------------- 5.2/99.8 MB 4.7 MB/s eta 0:00:21\n",
      "   -- ------------------------------------- 5.4/99.8 MB 4.7 MB/s eta 0:00:21\n",
      "   -- ------------------------------------- 5.6/99.8 MB 4.7 MB/s eta 0:00:21\n",
      "   -- ------------------------------------- 5.9/99.8 MB 4.7 MB/s eta 0:00:20\n",
      "   -- ------------------------------------- 6.2/99.8 MB 4.8 MB/s eta 0:00:20\n",
      "   -- ------------------------------------- 6.4/99.8 MB 4.7 MB/s eta 0:00:20\n",
      "   -- ------------------------------------- 6.5/99.8 MB 4.7 MB/s eta 0:00:20\n",
      "   -- ------------------------------------- 6.8/99.8 MB 4.7 MB/s eta 0:00:20\n",
      "   -- ------------------------------------- 7.1/99.8 MB 4.7 MB/s eta 0:00:20\n",
      "   -- ------------------------------------- 7.3/99.8 MB 4.7 MB/s eta 0:00:20\n",
      "   --- ------------------------------------ 7.5/99.8 MB 4.8 MB/s eta 0:00:20\n",
      "   --- ------------------------------------ 7.8/99.8 MB 4.8 MB/s eta 0:00:20\n",
      "   --- ------------------------------------ 8.0/99.8 MB 4.8 MB/s eta 0:00:20\n",
      "   --- ------------------------------------ 8.3/99.8 MB 4.8 MB/s eta 0:00:20\n",
      "   --- ------------------------------------ 8.5/99.8 MB 4.8 MB/s eta 0:00:20\n",
      "   --- ------------------------------------ 8.7/99.8 MB 4.8 MB/s eta 0:00:19\n",
      "   --- ------------------------------------ 9.0/99.8 MB 4.8 MB/s eta 0:00:19\n",
      "   --- ------------------------------------ 9.2/99.8 MB 4.8 MB/s eta 0:00:19\n",
      "   --- ------------------------------------ 9.4/99.8 MB 4.8 MB/s eta 0:00:19\n",
      "   --- ------------------------------------ 9.6/99.8 MB 4.8 MB/s eta 0:00:19\n",
      "   --- ------------------------------------ 9.8/99.8 MB 4.8 MB/s eta 0:00:19\n",
      "   ---- ----------------------------------- 10.0/99.8 MB 4.8 MB/s eta 0:00:19\n",
      "   ---- ----------------------------------- 10.2/99.8 MB 4.7 MB/s eta 0:00:19\n",
      "   ---- ----------------------------------- 10.4/99.8 MB 4.9 MB/s eta 0:00:19\n",
      "   ---- ----------------------------------- 10.6/99.8 MB 4.9 MB/s eta 0:00:19\n",
      "   ---- ----------------------------------- 10.8/99.8 MB 4.9 MB/s eta 0:00:19\n",
      "   ---- ----------------------------------- 11.1/99.8 MB 5.0 MB/s eta 0:00:18\n",
      "   ---- ----------------------------------- 11.3/99.8 MB 4.9 MB/s eta 0:00:19\n",
      "   ---- ----------------------------------- 11.5/99.8 MB 4.8 MB/s eta 0:00:19\n",
      "   ---- ----------------------------------- 11.7/99.8 MB 4.9 MB/s eta 0:00:19\n",
      "   ---- ----------------------------------- 11.9/99.8 MB 4.8 MB/s eta 0:00:19\n",
      "   ---- ----------------------------------- 12.1/99.8 MB 4.8 MB/s eta 0:00:19\n",
      "   ---- ----------------------------------- 12.3/99.8 MB 4.8 MB/s eta 0:00:19\n",
      "   ----- ---------------------------------- 12.6/99.8 MB 4.9 MB/s eta 0:00:18\n",
      "   ----- ---------------------------------- 12.8/99.8 MB 4.9 MB/s eta 0:00:18\n",
      "   ----- ---------------------------------- 13.1/99.8 MB 4.9 MB/s eta 0:00:18\n",
      "   ----- ---------------------------------- 13.2/99.8 MB 4.9 MB/s eta 0:00:18\n",
      "   ----- ---------------------------------- 13.5/99.8 MB 4.8 MB/s eta 0:00:18\n",
      "   ----- ---------------------------------- 13.8/99.8 MB 4.8 MB/s eta 0:00:18\n",
      "   ----- ---------------------------------- 14.0/99.8 MB 4.9 MB/s eta 0:00:18\n",
      "   ----- ---------------------------------- 14.3/99.8 MB 4.9 MB/s eta 0:00:18\n",
      "   ----- ---------------------------------- 14.6/99.8 MB 4.9 MB/s eta 0:00:18\n",
      "   ----- ---------------------------------- 14.8/99.8 MB 4.9 MB/s eta 0:00:18\n",
      "   ------ --------------------------------- 15.0/99.8 MB 4.9 MB/s eta 0:00:18\n",
      "   ------ --------------------------------- 15.3/99.8 MB 4.9 MB/s eta 0:00:18\n",
      "   ------ --------------------------------- 15.6/99.8 MB 4.9 MB/s eta 0:00:18\n",
      "   ------ --------------------------------- 15.7/99.8 MB 4.9 MB/s eta 0:00:18\n",
      "   ------ --------------------------------- 15.9/99.8 MB 4.9 MB/s eta 0:00:18\n",
      "   ------ --------------------------------- 16.2/99.8 MB 4.9 MB/s eta 0:00:17\n",
      "   ------ --------------------------------- 16.3/99.8 MB 4.8 MB/s eta 0:00:18\n",
      "   ------ --------------------------------- 16.7/99.8 MB 4.9 MB/s eta 0:00:17\n",
      "   ------ --------------------------------- 16.7/99.8 MB 4.9 MB/s eta 0:00:17\n",
      "   ------ --------------------------------- 17.0/99.8 MB 4.9 MB/s eta 0:00:17\n",
      "   ------ --------------------------------- 17.1/99.8 MB 4.9 MB/s eta 0:00:18\n",
      "   ------ --------------------------------- 17.3/99.8 MB 4.8 MB/s eta 0:00:18\n",
      "   ------- -------------------------------- 17.6/99.8 MB 4.9 MB/s eta 0:00:17\n",
      "   ------- -------------------------------- 17.8/99.8 MB 4.8 MB/s eta 0:00:18\n",
      "   ------- -------------------------------- 18.1/99.8 MB 4.8 MB/s eta 0:00:17\n",
      "   ------- -------------------------------- 18.3/99.8 MB 4.8 MB/s eta 0:00:17\n",
      "   ------- -------------------------------- 18.5/99.8 MB 4.8 MB/s eta 0:00:17\n",
      "   ------- -------------------------------- 18.8/99.8 MB 4.8 MB/s eta 0:00:17\n",
      "   ------- -------------------------------- 19.0/99.8 MB 4.8 MB/s eta 0:00:17\n",
      "   ------- -------------------------------- 19.3/99.8 MB 4.8 MB/s eta 0:00:17\n",
      "   ------- -------------------------------- 19.5/99.8 MB 4.8 MB/s eta 0:00:17\n",
      "   ------- -------------------------------- 19.7/99.8 MB 4.8 MB/s eta 0:00:17\n",
      "   ------- -------------------------------- 19.9/99.8 MB 4.8 MB/s eta 0:00:17\n",
      "   -------- ------------------------------- 20.2/99.8 MB 4.9 MB/s eta 0:00:17\n",
      "   -------- ------------------------------- 20.4/99.8 MB 4.9 MB/s eta 0:00:17\n",
      "   -------- ------------------------------- 20.7/99.8 MB 4.9 MB/s eta 0:00:17\n",
      "   -------- ------------------------------- 20.8/99.8 MB 4.9 MB/s eta 0:00:17\n",
      "   -------- ------------------------------- 21.1/99.8 MB 4.9 MB/s eta 0:00:17\n",
      "   -------- ------------------------------- 21.4/99.8 MB 4.9 MB/s eta 0:00:16\n",
      "   -------- ------------------------------- 21.6/99.8 MB 4.9 MB/s eta 0:00:16\n",
      "   -------- ------------------------------- 21.9/99.8 MB 5.0 MB/s eta 0:00:16\n",
      "   -------- ------------------------------- 22.1/99.8 MB 5.0 MB/s eta 0:00:16\n",
      "   -------- ------------------------------- 22.4/99.8 MB 5.0 MB/s eta 0:00:16\n",
      "   --------- ------------------------------ 22.7/99.8 MB 5.1 MB/s eta 0:00:16\n",
      "   --------- ------------------------------ 22.9/99.8 MB 5.0 MB/s eta 0:00:16\n",
      "   --------- ------------------------------ 23.2/99.8 MB 5.0 MB/s eta 0:00:16\n",
      "   --------- ------------------------------ 23.4/99.8 MB 5.0 MB/s eta 0:00:16\n",
      "   --------- ------------------------------ 23.5/99.8 MB 5.0 MB/s eta 0:00:16\n",
      "   --------- ------------------------------ 23.7/99.8 MB 5.0 MB/s eta 0:00:16\n",
      "   --------- ------------------------------ 24.0/99.8 MB 5.0 MB/s eta 0:00:16\n",
      "   --------- ------------------------------ 24.0/99.8 MB 4.9 MB/s eta 0:00:16\n",
      "   --------- ------------------------------ 24.2/99.8 MB 4.8 MB/s eta 0:00:16\n",
      "   --------- ------------------------------ 24.4/99.8 MB 4.9 MB/s eta 0:00:16\n",
      "   --------- ------------------------------ 24.7/99.8 MB 4.9 MB/s eta 0:00:16\n",
      "   --------- ------------------------------ 24.9/99.8 MB 4.9 MB/s eta 0:00:16\n",
      "   ---------- ----------------------------- 25.2/99.8 MB 4.8 MB/s eta 0:00:16\n",
      "   ---------- ----------------------------- 25.5/99.8 MB 4.9 MB/s eta 0:00:16\n",
      "   ---------- ----------------------------- 25.7/99.8 MB 4.9 MB/s eta 0:00:16\n",
      "   ---------- ----------------------------- 26.0/99.8 MB 4.9 MB/s eta 0:00:16\n",
      "   ---------- ----------------------------- 26.3/99.8 MB 5.0 MB/s eta 0:00:15\n",
      "   ---------- ----------------------------- 26.5/99.8 MB 5.0 MB/s eta 0:00:15\n",
      "   ---------- ----------------------------- 26.6/99.8 MB 4.9 MB/s eta 0:00:15\n",
      "   ---------- ----------------------------- 26.9/99.8 MB 4.9 MB/s eta 0:00:15\n",
      "   ---------- ----------------------------- 27.1/99.8 MB 5.0 MB/s eta 0:00:15\n",
      "   ---------- ----------------------------- 27.4/99.8 MB 5.0 MB/s eta 0:00:15\n",
      "   ----------- ---------------------------- 27.6/99.8 MB 5.0 MB/s eta 0:00:15\n",
      "   ----------- ---------------------------- 27.8/99.8 MB 5.0 MB/s eta 0:00:15\n",
      "   ----------- ---------------------------- 28.1/99.8 MB 5.0 MB/s eta 0:00:15\n",
      "   ----------- ---------------------------- 28.3/99.8 MB 5.0 MB/s eta 0:00:15\n",
      "   ----------- ---------------------------- 28.6/99.8 MB 5.0 MB/s eta 0:00:15\n",
      "   ----------- ---------------------------- 28.8/99.8 MB 5.0 MB/s eta 0:00:15\n",
      "   ----------- ---------------------------- 29.1/99.8 MB 5.0 MB/s eta 0:00:15\n",
      "   ----------- ---------------------------- 29.4/99.8 MB 5.1 MB/s eta 0:00:14\n",
      "   ----------- ---------------------------- 29.7/99.8 MB 5.1 MB/s eta 0:00:14\n",
      "   ----------- ---------------------------- 29.8/99.8 MB 5.0 MB/s eta 0:00:14\n",
      "   ------------ --------------------------- 30.0/99.8 MB 5.0 MB/s eta 0:00:14\n",
      "   ------------ --------------------------- 30.2/99.8 MB 5.0 MB/s eta 0:00:14\n",
      "   ------------ --------------------------- 30.5/99.8 MB 5.0 MB/s eta 0:00:14\n",
      "   ------------ --------------------------- 30.8/99.8 MB 5.1 MB/s eta 0:00:14\n",
      "   ------------ --------------------------- 31.1/99.8 MB 5.1 MB/s eta 0:00:14\n",
      "   ------------ --------------------------- 31.4/99.8 MB 5.1 MB/s eta 0:00:14\n",
      "   ------------ --------------------------- 31.5/99.8 MB 5.1 MB/s eta 0:00:14\n",
      "   ------------ --------------------------- 31.7/99.8 MB 5.1 MB/s eta 0:00:14\n",
      "   ------------ --------------------------- 32.0/99.8 MB 5.0 MB/s eta 0:00:14\n",
      "   ------------ --------------------------- 32.2/99.8 MB 5.0 MB/s eta 0:00:14\n",
      "   ------------- -------------------------- 32.4/99.8 MB 5.0 MB/s eta 0:00:14\n",
      "   ------------- -------------------------- 32.7/99.8 MB 5.0 MB/s eta 0:00:14\n",
      "   ------------- -------------------------- 32.9/99.8 MB 5.0 MB/s eta 0:00:14\n",
      "   ------------- -------------------------- 33.2/99.8 MB 5.0 MB/s eta 0:00:14\n",
      "   ------------- -------------------------- 33.4/99.8 MB 5.0 MB/s eta 0:00:14\n",
      "   ------------- -------------------------- 33.7/99.8 MB 5.0 MB/s eta 0:00:14\n",
      "   ------------- -------------------------- 33.9/99.8 MB 5.1 MB/s eta 0:00:13\n",
      "   ------------- -------------------------- 34.2/99.8 MB 5.2 MB/s eta 0:00:13\n",
      "   ------------- -------------------------- 34.5/99.8 MB 5.3 MB/s eta 0:00:13\n",
      "   ------------- -------------------------- 34.7/99.8 MB 5.3 MB/s eta 0:00:13\n",
      "   -------------- ------------------------- 35.0/99.8 MB 5.3 MB/s eta 0:00:13\n",
      "   -------------- ------------------------- 35.3/99.8 MB 5.3 MB/s eta 0:00:13\n",
      "   -------------- ------------------------- 35.5/99.8 MB 5.2 MB/s eta 0:00:13\n",
      "   -------------- ------------------------- 35.8/99.8 MB 5.2 MB/s eta 0:00:13\n",
      "   -------------- ------------------------- 36.0/99.8 MB 5.2 MB/s eta 0:00:13\n",
      "   -------------- ------------------------- 36.2/99.8 MB 5.2 MB/s eta 0:00:13\n",
      "   -------------- ------------------------- 36.4/99.8 MB 5.2 MB/s eta 0:00:13\n",
      "   -------------- ------------------------- 36.7/99.8 MB 5.2 MB/s eta 0:00:13\n",
      "   -------------- ------------------------- 37.0/99.8 MB 5.2 MB/s eta 0:00:12\n",
      "   -------------- ------------------------- 37.2/99.8 MB 5.3 MB/s eta 0:00:12\n",
      "   --------------- ------------------------ 37.4/99.8 MB 5.2 MB/s eta 0:00:12\n",
      "   --------------- ------------------------ 37.8/99.8 MB 5.3 MB/s eta 0:00:12\n",
      "   --------------- ------------------------ 38.0/99.8 MB 5.3 MB/s eta 0:00:12\n",
      "   --------------- ------------------------ 38.2/99.8 MB 5.3 MB/s eta 0:00:12\n",
      "   --------------- ------------------------ 38.4/99.8 MB 5.2 MB/s eta 0:00:12\n",
      "   --------------- ------------------------ 38.7/99.8 MB 5.3 MB/s eta 0:00:12\n",
      "   --------------- ------------------------ 38.9/99.8 MB 5.3 MB/s eta 0:00:12\n",
      "   --------------- ------------------------ 39.2/99.8 MB 5.3 MB/s eta 0:00:12\n",
      "   --------------- ------------------------ 39.4/99.8 MB 5.3 MB/s eta 0:00:12\n",
      "   --------------- ------------------------ 39.7/99.8 MB 5.2 MB/s eta 0:00:12\n",
      "   --------------- ------------------------ 39.9/99.8 MB 5.2 MB/s eta 0:00:12\n",
      "   ---------------- ----------------------- 40.2/99.8 MB 5.3 MB/s eta 0:00:12\n",
      "   ---------------- ----------------------- 40.5/99.8 MB 5.4 MB/s eta 0:00:12\n",
      "   ---------------- ----------------------- 40.6/99.8 MB 5.3 MB/s eta 0:00:12\n",
      "   ---------------- ----------------------- 40.9/99.8 MB 5.3 MB/s eta 0:00:12\n",
      "   ---------------- ----------------------- 41.2/99.8 MB 5.3 MB/s eta 0:00:12\n",
      "   ---------------- ----------------------- 41.5/99.8 MB 5.3 MB/s eta 0:00:11\n",
      "   ---------------- ----------------------- 41.7/99.8 MB 5.4 MB/s eta 0:00:11\n",
      "   ---------------- ----------------------- 42.0/99.8 MB 5.4 MB/s eta 0:00:11\n",
      "   ---------------- ----------------------- 42.1/99.8 MB 5.3 MB/s eta 0:00:11\n",
      "   ---------------- ----------------------- 42.4/99.8 MB 5.3 MB/s eta 0:00:11\n",
      "   ----------------- ---------------------- 42.6/99.8 MB 5.3 MB/s eta 0:00:11\n",
      "   ----------------- ---------------------- 42.9/99.8 MB 5.4 MB/s eta 0:00:11\n",
      "   ----------------- ---------------------- 43.2/99.8 MB 5.4 MB/s eta 0:00:11\n",
      "   ----------------- ---------------------- 43.3/99.8 MB 5.4 MB/s eta 0:00:11\n",
      "   ----------------- ---------------------- 43.6/99.8 MB 5.4 MB/s eta 0:00:11\n",
      "   ----------------- ---------------------- 43.9/99.8 MB 5.4 MB/s eta 0:00:11\n",
      "   ----------------- ---------------------- 44.2/99.8 MB 5.4 MB/s eta 0:00:11\n",
      "   ----------------- ---------------------- 44.4/99.8 MB 5.3 MB/s eta 0:00:11\n",
      "   ----------------- ---------------------- 44.7/99.8 MB 5.3 MB/s eta 0:00:11\n",
      "   ------------------ --------------------- 44.9/99.8 MB 5.3 MB/s eta 0:00:11\n",
      "   ------------------ --------------------- 45.2/99.8 MB 5.3 MB/s eta 0:00:11\n",
      "   ------------------ --------------------- 45.4/99.8 MB 5.3 MB/s eta 0:00:11\n",
      "   ------------------ --------------------- 45.6/99.8 MB 5.3 MB/s eta 0:00:11\n",
      "   ------------------ --------------------- 45.8/99.8 MB 5.2 MB/s eta 0:00:11\n",
      "   ------------------ --------------------- 46.0/99.8 MB 5.2 MB/s eta 0:00:11\n",
      "   ------------------ --------------------- 46.2/99.8 MB 5.2 MB/s eta 0:00:11\n",
      "   ------------------ --------------------- 46.4/99.8 MB 5.2 MB/s eta 0:00:11\n",
      "   ------------------ --------------------- 46.7/99.8 MB 5.3 MB/s eta 0:00:11\n",
      "   ------------------ --------------------- 47.0/99.8 MB 5.3 MB/s eta 0:00:10\n",
      "   ------------------ --------------------- 47.3/99.8 MB 5.3 MB/s eta 0:00:10\n",
      "   ------------------- -------------------- 47.5/99.8 MB 5.3 MB/s eta 0:00:10\n",
      "   ------------------- -------------------- 47.7/99.8 MB 5.3 MB/s eta 0:00:10\n",
      "   ------------------- -------------------- 48.0/99.8 MB 5.3 MB/s eta 0:00:10\n",
      "   ------------------- -------------------- 48.3/99.8 MB 5.3 MB/s eta 0:00:10\n",
      "   ------------------- -------------------- 48.5/99.8 MB 5.3 MB/s eta 0:00:10\n",
      "   ------------------- -------------------- 48.8/99.8 MB 5.3 MB/s eta 0:00:10\n",
      "   ------------------- -------------------- 49.0/99.8 MB 5.3 MB/s eta 0:00:10\n",
      "   ------------------- -------------------- 49.3/99.8 MB 5.3 MB/s eta 0:00:10\n",
      "   ------------------- -------------------- 49.6/99.8 MB 5.3 MB/s eta 0:00:10\n",
      "   ------------------- -------------------- 49.8/99.8 MB 5.3 MB/s eta 0:00:10\n",
      "   -------------------- ------------------- 50.1/99.8 MB 5.4 MB/s eta 0:00:10\n",
      "   -------------------- ------------------- 50.3/99.8 MB 5.3 MB/s eta 0:00:10\n",
      "   -------------------- ------------------- 50.6/99.8 MB 5.4 MB/s eta 0:00:10\n",
      "   -------------------- ------------------- 50.9/99.8 MB 5.4 MB/s eta 0:00:10\n",
      "   -------------------- ------------------- 51.1/99.8 MB 5.4 MB/s eta 0:00:10\n",
      "   -------------------- ------------------- 51.4/99.8 MB 5.4 MB/s eta 0:00:09\n",
      "   -------------------- ------------------- 51.6/99.8 MB 5.3 MB/s eta 0:00:10\n",
      "   -------------------- ------------------- 51.8/99.8 MB 5.3 MB/s eta 0:00:10\n",
      "   -------------------- ------------------- 52.1/99.8 MB 5.3 MB/s eta 0:00:09\n",
      "   -------------------- ------------------- 52.3/99.8 MB 5.4 MB/s eta 0:00:09\n",
      "   --------------------- ------------------ 52.5/99.8 MB 5.3 MB/s eta 0:00:09\n",
      "   --------------------- ------------------ 52.8/99.8 MB 5.4 MB/s eta 0:00:09\n",
      "   --------------------- ------------------ 53.1/99.8 MB 5.4 MB/s eta 0:00:09\n",
      "   --------------------- ------------------ 53.3/99.8 MB 5.3 MB/s eta 0:00:09\n",
      "   --------------------- ------------------ 53.5/99.8 MB 5.3 MB/s eta 0:00:09\n",
      "   --------------------- ------------------ 53.8/99.8 MB 5.3 MB/s eta 0:00:09\n",
      "   --------------------- ------------------ 54.1/99.8 MB 5.4 MB/s eta 0:00:09\n",
      "   --------------------- ------------------ 54.3/99.8 MB 5.4 MB/s eta 0:00:09\n",
      "   --------------------- ------------------ 54.6/99.8 MB 5.4 MB/s eta 0:00:09\n",
      "   --------------------- ------------------ 54.7/99.8 MB 5.3 MB/s eta 0:00:09\n",
      "   ---------------------- ----------------- 54.9/99.8 MB 5.2 MB/s eta 0:00:09\n",
      "   ---------------------- ----------------- 55.2/99.8 MB 5.3 MB/s eta 0:00:09\n",
      "   ---------------------- ----------------- 55.4/99.8 MB 5.2 MB/s eta 0:00:09\n",
      "   ---------------------- ----------------- 55.6/99.8 MB 5.3 MB/s eta 0:00:09\n",
      "   ---------------------- ----------------- 55.6/99.8 MB 5.3 MB/s eta 0:00:09\n",
      "   ---------------------- ----------------- 56.1/99.8 MB 5.3 MB/s eta 0:00:09\n",
      "   ---------------------- ----------------- 56.3/99.8 MB 5.3 MB/s eta 0:00:09\n",
      "   ---------------------- ----------------- 56.5/99.8 MB 5.2 MB/s eta 0:00:09\n",
      "   ---------------------- ----------------- 56.7/99.8 MB 5.2 MB/s eta 0:00:09\n",
      "   ---------------------- ----------------- 56.9/99.8 MB 5.3 MB/s eta 0:00:09\n",
      "   ---------------------- ----------------- 57.1/99.8 MB 5.2 MB/s eta 0:00:09\n",
      "   ----------------------- ---------------- 57.4/99.8 MB 5.2 MB/s eta 0:00:09\n",
      "   ----------------------- ---------------- 57.6/99.8 MB 5.2 MB/s eta 0:00:09\n",
      "   ----------------------- ---------------- 57.8/99.8 MB 5.2 MB/s eta 0:00:09\n",
      "   ----------------------- ---------------- 58.0/99.8 MB 5.2 MB/s eta 0:00:09\n",
      "   ----------------------- ---------------- 58.2/99.8 MB 5.1 MB/s eta 0:00:09\n",
      "   ----------------------- ---------------- 58.4/99.8 MB 5.1 MB/s eta 0:00:09\n",
      "   ----------------------- ---------------- 58.6/99.8 MB 5.1 MB/s eta 0:00:09\n",
      "   ----------------------- ---------------- 58.9/99.8 MB 5.0 MB/s eta 0:00:09\n",
      "   ----------------------- ---------------- 59.1/99.8 MB 5.1 MB/s eta 0:00:08\n",
      "   ----------------------- ---------------- 59.4/99.8 MB 5.1 MB/s eta 0:00:08\n",
      "   ----------------------- ---------------- 59.5/99.8 MB 5.0 MB/s eta 0:00:08\n",
      "   ----------------------- ---------------- 59.8/99.8 MB 5.0 MB/s eta 0:00:08\n",
      "   ------------------------ --------------- 60.0/99.8 MB 5.0 MB/s eta 0:00:08\n",
      "   ------------------------ --------------- 60.2/99.8 MB 5.0 MB/s eta 0:00:08\n",
      "   ------------------------ --------------- 60.6/99.8 MB 5.0 MB/s eta 0:00:08\n",
      "   ------------------------ --------------- 60.7/99.8 MB 5.0 MB/s eta 0:00:08\n",
      "   ------------------------ --------------- 60.9/99.8 MB 4.9 MB/s eta 0:00:08\n",
      "   ------------------------ --------------- 61.1/99.8 MB 4.9 MB/s eta 0:00:08\n",
      "   ------------------------ --------------- 61.5/99.8 MB 4.9 MB/s eta 0:00:08\n",
      "   ------------------------ --------------- 61.6/99.8 MB 4.9 MB/s eta 0:00:08\n",
      "   ------------------------ --------------- 61.9/99.8 MB 5.0 MB/s eta 0:00:08\n",
      "   ------------------------ --------------- 62.2/99.8 MB 5.0 MB/s eta 0:00:08\n",
      "   ------------------------- -------------- 62.4/99.8 MB 5.0 MB/s eta 0:00:08\n",
      "   ------------------------- -------------- 62.7/99.8 MB 5.0 MB/s eta 0:00:08\n",
      "   ------------------------- -------------- 63.0/99.8 MB 5.0 MB/s eta 0:00:08\n",
      "   ------------------------- -------------- 63.1/99.8 MB 5.0 MB/s eta 0:00:08\n",
      "   ------------------------- -------------- 63.3/99.8 MB 4.9 MB/s eta 0:00:08\n",
      "   ------------------------- -------------- 63.5/99.8 MB 4.9 MB/s eta 0:00:08\n",
      "   ------------------------- -------------- 63.8/99.8 MB 4.9 MB/s eta 0:00:08\n",
      "   ------------------------- -------------- 64.1/99.8 MB 4.9 MB/s eta 0:00:08\n",
      "   ------------------------- -------------- 64.2/99.8 MB 4.9 MB/s eta 0:00:08\n",
      "   ------------------------- -------------- 64.5/99.8 MB 4.9 MB/s eta 0:00:08\n",
      "   ------------------------- -------------- 64.7/99.8 MB 4.8 MB/s eta 0:00:08\n",
      "   -------------------------- ------------- 64.9/99.8 MB 4.8 MB/s eta 0:00:08\n",
      "   -------------------------- ------------- 65.1/99.8 MB 4.9 MB/s eta 0:00:08\n",
      "   -------------------------- ------------- 65.4/99.8 MB 4.9 MB/s eta 0:00:08\n",
      "   -------------------------- ------------- 65.6/99.8 MB 4.9 MB/s eta 0:00:07\n",
      "   -------------------------- ------------- 65.9/99.8 MB 5.1 MB/s eta 0:00:07\n",
      "   -------------------------- ------------- 66.1/99.8 MB 5.0 MB/s eta 0:00:07\n",
      "   -------------------------- ------------- 66.3/99.8 MB 5.0 MB/s eta 0:00:07\n",
      "   -------------------------- ------------- 66.6/99.8 MB 4.9 MB/s eta 0:00:07\n",
      "   -------------------------- ------------- 66.8/99.8 MB 5.0 MB/s eta 0:00:07\n",
      "   -------------------------- ------------- 67.2/99.8 MB 5.0 MB/s eta 0:00:07\n",
      "   --------------------------- ------------ 67.4/99.8 MB 5.0 MB/s eta 0:00:07\n",
      "   --------------------------- ------------ 67.6/99.8 MB 5.0 MB/s eta 0:00:07\n",
      "   --------------------------- ------------ 67.9/99.8 MB 5.0 MB/s eta 0:00:07\n",
      "   --------------------------- ------------ 68.1/99.8 MB 5.1 MB/s eta 0:00:07\n",
      "   --------------------------- ------------ 68.3/99.8 MB 5.1 MB/s eta 0:00:07\n",
      "   --------------------------- ------------ 68.6/99.8 MB 5.1 MB/s eta 0:00:07\n",
      "   --------------------------- ------------ 68.8/99.8 MB 5.1 MB/s eta 0:00:07\n",
      "   --------------------------- ------------ 69.0/99.8 MB 5.1 MB/s eta 0:00:07\n",
      "   --------------------------- ------------ 69.1/99.8 MB 5.1 MB/s eta 0:00:07\n",
      "   --------------------------- ------------ 69.5/99.8 MB 5.1 MB/s eta 0:00:06\n",
      "   --------------------------- ------------ 69.8/99.8 MB 5.2 MB/s eta 0:00:06\n",
      "   ---------------------------- ----------- 70.0/99.8 MB 5.1 MB/s eta 0:00:06\n",
      "   ---------------------------- ----------- 70.0/99.8 MB 5.1 MB/s eta 0:00:06\n",
      "   ---------------------------- ----------- 70.0/99.8 MB 4.9 MB/s eta 0:00:07\n",
      "   ---------------------------- ----------- 70.0/99.8 MB 4.9 MB/s eta 0:00:07\n",
      "   ---------------------------- ----------- 70.4/99.8 MB 4.9 MB/s eta 0:00:06\n",
      "   ---------------------------- ----------- 70.6/99.8 MB 4.9 MB/s eta 0:00:06\n",
      "   ---------------------------- ----------- 71.0/99.8 MB 5.0 MB/s eta 0:00:06\n",
      "   ---------------------------- ----------- 71.0/99.8 MB 4.9 MB/s eta 0:00:06\n",
      "   ---------------------------- ----------- 71.2/99.8 MB 4.9 MB/s eta 0:00:06\n",
      "   ---------------------------- ----------- 71.2/99.8 MB 4.9 MB/s eta 0:00:06\n",
      "   ---------------------------- ----------- 71.4/99.8 MB 4.7 MB/s eta 0:00:06\n",
      "   ----------------------------- ---------- 72.3/99.8 MB 5.0 MB/s eta 0:00:06\n",
      "   ----------------------------- ---------- 72.6/99.8 MB 5.0 MB/s eta 0:00:06\n",
      "   ----------------------------- ---------- 72.9/99.8 MB 5.0 MB/s eta 0:00:06\n",
      "   ----------------------------- ---------- 73.1/99.8 MB 5.0 MB/s eta 0:00:06\n",
      "   ----------------------------- ---------- 73.4/99.8 MB 5.0 MB/s eta 0:00:06\n",
      "   ----------------------------- ---------- 73.7/99.8 MB 5.1 MB/s eta 0:00:06\n",
      "   ----------------------------- ---------- 74.0/99.8 MB 5.1 MB/s eta 0:00:06\n",
      "   ----------------------------- ---------- 74.2/99.8 MB 5.0 MB/s eta 0:00:06\n",
      "   ----------------------------- ---------- 74.4/99.8 MB 5.1 MB/s eta 0:00:05\n",
      "   ----------------------------- ---------- 74.7/99.8 MB 5.1 MB/s eta 0:00:05\n",
      "   ------------------------------ --------- 74.8/99.8 MB 5.1 MB/s eta 0:00:05\n",
      "   ------------------------------ --------- 75.1/99.8 MB 5.2 MB/s eta 0:00:05\n",
      "   ------------------------------ --------- 75.2/99.8 MB 5.0 MB/s eta 0:00:05\n",
      "   ------------------------------ --------- 75.4/99.8 MB 5.0 MB/s eta 0:00:05\n",
      "   ------------------------------ --------- 75.7/99.8 MB 5.0 MB/s eta 0:00:05\n",
      "   ------------------------------ --------- 75.9/99.8 MB 5.0 MB/s eta 0:00:05\n",
      "   ------------------------------ --------- 76.2/99.8 MB 5.0 MB/s eta 0:00:05\n",
      "   ------------------------------ --------- 76.4/99.8 MB 5.0 MB/s eta 0:00:05\n",
      "   ------------------------------ --------- 76.5/99.8 MB 4.9 MB/s eta 0:00:05\n",
      "   ------------------------------ --------- 76.7/99.8 MB 5.0 MB/s eta 0:00:05\n",
      "   ------------------------------ --------- 76.8/99.8 MB 4.9 MB/s eta 0:00:05\n",
      "   ------------------------------ --------- 77.2/99.8 MB 4.9 MB/s eta 0:00:05\n",
      "   ------------------------------- -------- 77.5/99.8 MB 5.0 MB/s eta 0:00:05\n",
      "   ------------------------------- -------- 77.8/99.8 MB 5.0 MB/s eta 0:00:05\n",
      "   ------------------------------- -------- 77.9/99.8 MB 4.9 MB/s eta 0:00:05\n",
      "   ------------------------------- -------- 78.1/99.8 MB 4.9 MB/s eta 0:00:05\n",
      "   ------------------------------- -------- 78.4/99.8 MB 4.9 MB/s eta 0:00:05\n",
      "   ------------------------------- -------- 78.7/99.8 MB 5.0 MB/s eta 0:00:05\n",
      "   ------------------------------- -------- 79.0/99.8 MB 5.0 MB/s eta 0:00:05\n",
      "   ------------------------------- -------- 79.2/99.8 MB 5.0 MB/s eta 0:00:05\n",
      "   ------------------------------- -------- 79.5/99.8 MB 5.0 MB/s eta 0:00:05\n",
      "   ------------------------------- -------- 79.6/99.8 MB 4.9 MB/s eta 0:00:05\n",
      "   -------------------------------- ------- 79.8/99.8 MB 4.9 MB/s eta 0:00:05\n",
      "   -------------------------------- ------- 80.1/99.8 MB 4.9 MB/s eta 0:00:04\n",
      "   -------------------------------- ------- 80.4/99.8 MB 5.3 MB/s eta 0:00:04\n",
      "   -------------------------------- ------- 80.5/99.8 MB 5.2 MB/s eta 0:00:04\n",
      "   -------------------------------- ------- 80.8/99.8 MB 5.2 MB/s eta 0:00:04\n",
      "   -------------------------------- ------- 81.0/99.8 MB 5.2 MB/s eta 0:00:04\n",
      "   -------------------------------- ------- 81.2/99.8 MB 5.0 MB/s eta 0:00:04\n",
      "   -------------------------------- ------- 81.5/99.8 MB 5.5 MB/s eta 0:00:04\n",
      "   -------------------------------- ------- 81.7/99.8 MB 5.4 MB/s eta 0:00:04\n",
      "   -------------------------------- ------- 82.0/99.8 MB 5.3 MB/s eta 0:00:04\n",
      "   -------------------------------- ------- 82.2/99.8 MB 5.2 MB/s eta 0:00:04\n",
      "   --------------------------------- ------ 82.5/99.8 MB 5.1 MB/s eta 0:00:04\n",
      "   --------------------------------- ------ 82.7/99.8 MB 5.0 MB/s eta 0:00:04\n",
      "   --------------------------------- ------ 82.9/99.8 MB 5.0 MB/s eta 0:00:04\n",
      "   --------------------------------- ------ 83.2/99.8 MB 5.0 MB/s eta 0:00:04\n",
      "   --------------------------------- ------ 83.4/99.8 MB 5.0 MB/s eta 0:00:04\n",
      "   --------------------------------- ------ 83.7/99.8 MB 5.0 MB/s eta 0:00:04\n",
      "   --------------------------------- ------ 83.9/99.8 MB 5.0 MB/s eta 0:00:04\n",
      "   --------------------------------- ------ 84.2/99.8 MB 5.0 MB/s eta 0:00:04\n",
      "   --------------------------------- ------ 84.4/99.8 MB 5.0 MB/s eta 0:00:04\n",
      "   --------------------------------- ------ 84.6/99.8 MB 5.0 MB/s eta 0:00:04\n",
      "   ---------------------------------- ----- 84.9/99.8 MB 5.0 MB/s eta 0:00:03\n",
      "   ---------------------------------- ----- 85.1/99.8 MB 5.0 MB/s eta 0:00:03\n",
      "   ---------------------------------- ----- 85.4/99.8 MB 5.0 MB/s eta 0:00:03\n",
      "   ---------------------------------- ----- 85.6/99.8 MB 5.1 MB/s eta 0:00:03\n",
      "   ---------------------------------- ----- 85.9/99.8 MB 5.1 MB/s eta 0:00:03\n",
      "   ---------------------------------- ----- 86.2/99.8 MB 5.2 MB/s eta 0:00:03\n",
      "   ---------------------------------- ----- 86.4/99.8 MB 5.2 MB/s eta 0:00:03\n",
      "   ---------------------------------- ----- 86.5/99.8 MB 5.0 MB/s eta 0:00:03\n",
      "   ---------------------------------- ----- 86.9/99.8 MB 5.2 MB/s eta 0:00:03\n",
      "   ---------------------------------- ----- 87.0/99.8 MB 5.2 MB/s eta 0:00:03\n",
      "   ----------------------------------- ---- 87.3/99.8 MB 5.2 MB/s eta 0:00:03\n",
      "   ----------------------------------- ---- 87.5/99.8 MB 5.1 MB/s eta 0:00:03\n",
      "   ----------------------------------- ---- 87.8/99.8 MB 5.1 MB/s eta 0:00:03\n",
      "   ----------------------------------- ---- 88.0/99.8 MB 5.1 MB/s eta 0:00:03\n",
      "   ----------------------------------- ---- 88.2/99.8 MB 5.2 MB/s eta 0:00:03\n",
      "   ----------------------------------- ---- 88.4/99.8 MB 5.1 MB/s eta 0:00:03\n",
      "   ----------------------------------- ---- 88.6/99.8 MB 5.1 MB/s eta 0:00:03\n",
      "   ----------------------------------- ---- 88.9/99.8 MB 5.1 MB/s eta 0:00:03\n",
      "   ----------------------------------- ---- 89.1/99.8 MB 5.0 MB/s eta 0:00:03\n",
      "   ----------------------------------- ---- 89.5/99.8 MB 5.1 MB/s eta 0:00:03\n",
      "   ----------------------------------- ---- 89.6/99.8 MB 5.0 MB/s eta 0:00:03\n",
      "   ----------------------------------- ---- 89.8/99.8 MB 5.1 MB/s eta 0:00:02\n",
      "   ------------------------------------ --- 90.0/99.8 MB 5.0 MB/s eta 0:00:02\n",
      "   ------------------------------------ --- 90.2/99.8 MB 5.0 MB/s eta 0:00:02\n",
      "   ------------------------------------ --- 90.4/99.8 MB 5.0 MB/s eta 0:00:02\n",
      "   ------------------------------------ --- 90.6/99.8 MB 5.0 MB/s eta 0:00:02\n",
      "   ------------------------------------ --- 90.8/99.8 MB 5.0 MB/s eta 0:00:02\n",
      "   ------------------------------------ --- 90.9/99.8 MB 5.0 MB/s eta 0:00:02\n",
      "   ------------------------------------ --- 91.1/99.8 MB 5.0 MB/s eta 0:00:02\n",
      "   ------------------------------------ --- 91.3/99.8 MB 4.9 MB/s eta 0:00:02\n",
      "   ------------------------------------ --- 91.6/99.8 MB 5.0 MB/s eta 0:00:02\n",
      "   ------------------------------------ --- 91.8/99.8 MB 5.0 MB/s eta 0:00:02\n",
      "   ------------------------------------ --- 91.9/99.8 MB 4.9 MB/s eta 0:00:02\n",
      "   ------------------------------------ --- 92.0/99.8 MB 4.9 MB/s eta 0:00:02\n",
      "   ------------------------------------ --- 92.1/99.8 MB 4.7 MB/s eta 0:00:02\n",
      "   ------------------------------------- -- 92.4/99.8 MB 4.7 MB/s eta 0:00:02\n",
      "   ------------------------------------- -- 92.6/99.8 MB 4.7 MB/s eta 0:00:02\n",
      "   ------------------------------------- -- 92.8/99.8 MB 4.7 MB/s eta 0:00:02\n",
      "   ------------------------------------- -- 92.8/99.8 MB 4.6 MB/s eta 0:00:02\n",
      "   ------------------------------------- -- 93.1/99.8 MB 4.6 MB/s eta 0:00:02\n",
      "   ------------------------------------- -- 93.4/99.8 MB 4.6 MB/s eta 0:00:02\n",
      "   ------------------------------------- -- 93.6/99.8 MB 4.7 MB/s eta 0:00:02\n",
      "   ------------------------------------- -- 93.9/99.8 MB 4.7 MB/s eta 0:00:02\n",
      "   ------------------------------------- -- 94.2/99.8 MB 4.7 MB/s eta 0:00:02\n",
      "   ------------------------------------- -- 94.5/99.8 MB 4.7 MB/s eta 0:00:02\n",
      "   -------------------------------------- - 94.8/99.8 MB 4.7 MB/s eta 0:00:02\n",
      "   -------------------------------------- - 95.2/99.8 MB 4.8 MB/s eta 0:00:01\n",
      "   -------------------------------------- - 95.4/99.8 MB 4.8 MB/s eta 0:00:01\n",
      "   -------------------------------------- - 95.7/99.8 MB 4.8 MB/s eta 0:00:01\n",
      "   -------------------------------------- - 95.9/99.8 MB 4.8 MB/s eta 0:00:01\n",
      "   -------------------------------------- - 96.2/99.8 MB 4.8 MB/s eta 0:00:01\n",
      "   -------------------------------------- - 96.5/99.8 MB 4.8 MB/s eta 0:00:01\n",
      "   -------------------------------------- - 96.8/99.8 MB 4.9 MB/s eta 0:00:01\n",
      "   -------------------------------------- - 97.1/99.8 MB 4.9 MB/s eta 0:00:01\n",
      "   ---------------------------------------  97.4/99.8 MB 5.0 MB/s eta 0:00:01\n",
      "   ---------------------------------------  97.7/99.8 MB 5.0 MB/s eta 0:00:01\n",
      "   ---------------------------------------  98.1/99.8 MB 5.1 MB/s eta 0:00:01\n",
      "   ---------------------------------------  98.4/99.8 MB 5.1 MB/s eta 0:00:01\n",
      "   ---------------------------------------  98.7/99.8 MB 5.1 MB/s eta 0:00:01\n",
      "   ---------------------------------------  99.0/99.8 MB 5.2 MB/s eta 0:00:01\n",
      "   ---------------------------------------  99.3/99.8 MB 5.2 MB/s eta 0:00:01\n",
      "   ---------------------------------------  99.7/99.8 MB 5.2 MB/s eta 0:00:01\n",
      "   ---------------------------------------  99.7/99.8 MB 5.2 MB/s eta 0:00:01\n",
      "   ---------------------------------------  99.7/99.8 MB 5.2 MB/s eta 0:00:01\n",
      "   ---------------------------------------  99.7/99.8 MB 5.2 MB/s eta 0:00:01\n",
      "   ---------------------------------------  99.7/99.8 MB 5.2 MB/s eta 0:00:01\n",
      "   ---------------------------------------  99.7/99.8 MB 5.2 MB/s eta 0:00:01\n",
      "   ---------------------------------------- 99.8/99.8 MB 4.6 MB/s eta 0:00:00\n",
      "Installing collected packages: xgboost\n",
      "Successfully installed xgboost-2.0.2\n"
     ]
    }
   ],
   "source": [
    "!pip install xgboost"
   ]
  },
  {
   "cell_type": "code",
   "execution_count": 219,
   "metadata": {},
   "outputs": [
    {
     "data": {
      "text/plain": [
       "0.9283681714721873"
      ]
     },
     "execution_count": 219,
     "metadata": {},
     "output_type": "execute_result"
    }
   ],
   "source": [
    "import xgboost\n",
    "\n",
    "xgb_reg = xgboost.XGBRegressor(max_depth=5)\n",
    "xgb_reg.fit(features, labels)\n",
    "xgb_reg.score(features, labels)"
   ]
  },
  {
   "cell_type": "code",
   "execution_count": 214,
   "metadata": {},
   "outputs": [
    {
     "data": {
      "text/plain": [
       "builtin_function_or_method"
      ]
     },
     "execution_count": 214,
     "metadata": {},
     "output_type": "execute_result"
    }
   ],
   "source": [
    "type(pickle.dump)"
   ]
  },
  {
   "cell_type": "code",
   "execution_count": 198,
   "metadata": {},
   "outputs": [
    {
     "name": "stdout",
     "output_type": "stream",
     "text": [
      "dict_keys(['fit_time', 'score_time', 'test_score'])\n"
     ]
    }
   ],
   "source": [
    "# Applying an example of cross validation\n",
    "from sklearn.model_selection import cross_validate\n",
    "\n",
    "# Initialize model and cross validate with 10 folds\n",
    "results = cross_validate(xgb_reg, features, labels, cv=10)\n",
    "print(results.keys())"
   ]
  },
  {
   "cell_type": "code",
   "execution_count": 199,
   "metadata": {},
   "outputs": [
    {
     "data": {
      "text/plain": [
       "array([0.92599446, 0.9284216 , 0.9289145 , 0.92788547, 0.92752974,\n",
       "       0.92642159, 0.92852888, 0.92545544, 0.92667954, 0.92507905])"
      ]
     },
     "execution_count": 199,
     "metadata": {},
     "output_type": "execute_result"
    }
   ],
   "source": [
    "results['test_score']"
   ]
  },
  {
   "cell_type": "code",
   "execution_count": 200,
   "metadata": {},
   "outputs": [
    {
     "data": {
      "text/plain": [
       "0.9270910265822586"
      ]
     },
     "execution_count": 200,
     "metadata": {},
     "output_type": "execute_result"
    }
   ],
   "source": [
    "results['test_score'].mean()"
   ]
  },
  {
   "cell_type": "code",
   "execution_count": null,
   "metadata": {},
   "outputs": [],
   "source": [
    "xgb_reg = xgboost.XGBRegressor(max_depth=5)\n",
    "xgb_reg.fit(X_train, y_train)\n",
    "xgb_reg.score(X_test,y_test)"
   ]
  },
  {
   "cell_type": "code",
   "execution_count": 220,
   "metadata": {},
   "outputs": [],
   "source": [
    "xgb_reg.save_model('xgb_model.json')"
   ]
  },
  {
   "cell_type": "code",
   "execution_count": 221,
   "metadata": {},
   "outputs": [],
   "source": [
    "xgb_reg.load_model('xgb_model.json')"
   ]
  }
 ],
 "metadata": {
  "kernelspec": {
   "display_name": "Python 3",
   "language": "python",
   "name": "python3"
  },
  "language_info": {
   "codemirror_mode": {
    "name": "ipython",
    "version": 3
   },
   "file_extension": ".py",
   "mimetype": "text/x-python",
   "name": "python",
   "nbconvert_exporter": "python",
   "pygments_lexer": "ipython3",
   "version": "3.11.7"
  }
 },
 "nbformat": 4,
 "nbformat_minor": 2
}
